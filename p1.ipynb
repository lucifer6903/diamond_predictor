{
  "nbformat": 4,
  "nbformat_minor": 0,
  "metadata": {
    "colab": {
      "provenance": [],
      "authorship_tag": "ABX9TyMz2HPVeFXx6zfjyA/Aps3a",
      "include_colab_link": true
    },
    "kernelspec": {
      "name": "python3",
      "display_name": "Python 3"
    },
    "language_info": {
      "name": "python"
    }
  },
  "cells": [
    {
      "cell_type": "markdown",
      "metadata": {
        "id": "view-in-github",
        "colab_type": "text"
      },
      "source": [
        "<a href=\"https://colab.research.google.com/github/lucifer6903/diamond_predictor/blob/main/p1.ipynb\" target=\"_parent\"><img src=\"https://colab.research.google.com/assets/colab-badge.svg\" alt=\"Open In Colab\"/></a>"
      ]
    },
    {
      "cell_type": "code",
      "execution_count": null,
      "metadata": {
        "colab": {
          "base_uri": "https://localhost:8080/"
        },
        "id": "Q_nKnHqxwOif",
        "outputId": "36d322e2-9b9a-41c4-d68c-f6f2aa705085"
      },
      "outputs": [
        {
          "output_type": "stream",
          "name": "stdout",
          "text": [
            "Eigenvalues:\n",
            "[-0.37228132+0.j  5.37228132+0.j]\n",
            "Eigenvectors:\n",
            "[[-0.82456484 -0.41597356]\n",
            " [ 0.56576746 -0.90937671]]\n"
          ]
        }
      ],
      "source": [
        "import numpy as np\n",
        "from scipy.sparse import csr_matrix\n",
        "from scipy.linalg import eig\n",
        "\n",
        "a = np.array([[1, 2], [3, 4]])\n",
        "\n",
        "sparse_matrix = csr_matrix(a)\n",
        "\n",
        "\n",
        "eigenvalues_, eigenvectors_ = eig(sparse_matrix.toarray())\n",
        "\n",
        "print(\"Eigenvalues:\")\n",
        "print(eigenvalues_)\n",
        "print(\"Eigenvectors:\")\n",
        "print(eigenvectors_)\n"
      ]
    },
    {
      "cell_type": "code",
      "source": [
        "import matplotlib.pyplot as plt\n",
        "import numpy as np\n",
        "from matplotlib.colors import ListedColormap, BoundaryNorm\n",
        "\n",
        "colors = [\"green\", \"red\", \"blue\"]\n",
        "cmap = ListedColormap(colors)\n",
        "\n",
        "\n",
        "norm = BoundaryNorm([0,.1,.5,.7],cmap.N)\n",
        "\n",
        "data = np.random.rand(10, 10)\n",
        "plt.imshow(data, cmap=cmap, norm=norm)\n",
        "plt.title(\"Custom Colormap with Boundaries\")\n",
        "plt.show()"
      ],
      "metadata": {
        "colab": {
          "base_uri": "https://localhost:8080/",
          "height": 452
        },
        "id": "1GVEjmJNwaZ3",
        "outputId": "44dd6d23-6581-49f8-f67a-25d40d4a5fba"
      },
      "execution_count": null,
      "outputs": [
        {
          "output_type": "display_data",
          "data": {
            "text/plain": [
              "<Figure size 640x480 with 1 Axes>"
            ],
            "image/png": "[encoded data removed]"
          },
          "metadata": {}
        }
      ]
    },
    {
      "cell_type": "code",
      "source": [
        "import numpy as np\n",
        "student_dtype = np.dtype([\n",
        "    ('name', 'U20'),\n",
        "    ('age', 'i4'),\n",
        "    ('grade', 'f4')\n",
        "])\n",
        "students = np.array([\n",
        "    ('Alice', 20, 85.5),\n",
        "    ('Bob', 22, 90.0),\n",
        "    ('Charlie', 19, 78.3)\n",
        "], dtype=student_dtype)\n",
        "print(\"Student Records:\")\n",
        "print(students)\n",
        "print(\"\\nNames:\", students['name'])\n",
        "print(\"Ages:\", students['age'])\n",
        "print(\"Grades:\", students['grade'])\n",
        "\n",
        "students['grade'][1] = 92.5\n",
        "print(\"\\nUpdated Records:\")\n",
        "print(students)\n"
      ],
      "metadata": {
        "colab": {
          "base_uri": "https://localhost:8080/"
        },
        "id": "bhszwlyiwfzu",
        "outputId": "c437fb58-f5c3-4339-dc21-a8248025ac48"
      },
      "execution_count": null,
      "outputs": [
        {
          "output_type": "stream",
          "name": "stdout",
          "text": [
            "Student Records:\n",
            "[('Alice', 20, 85.5) ('Bob', 22, 90. ) ('Charlie', 19, 78.3)]\n",
            "\n",
            "Names: ['Alice' 'Bob' 'Charlie']\n",
            "Ages: [20 22 19]\n",
            "Grades: [85.5 90.  78.3]\n",
            "\n",
            "Updated Records:\n",
            "[('Alice', 20, 85.5) ('Bob', 22, 92.5) ('Charlie', 19, 78.3)]\n"
          ]
        }
      ]
    },
    {
      "cell_type": "code",
      "source": [
        "import pandas as pd\n",
        "\n",
        "data = {\n",
        "    'Gender': ['m','f','m','m','f','m'],\n",
        "    'pre': ['group-A', 'group-A', 'group-B', 'group-A', 'group-B', 'group-B']\n",
        "}\n",
        "\n",
        "df = pd.DataFrame(data)\n",
        "\n",
        "table = pd.crosstab(df['Gender'], df['pre'])\n",
        "\n",
        "print(\"Contingency Table:\")\n",
        "print(table)\n"
      ],
      "metadata": {
        "colab": {
          "base_uri": "https://localhost:8080/"
        },
        "id": "suXgyk8Yw7pI",
        "outputId": "9fdebf2b-cae4-4e6d-eb41-94fed6a711d2"
      },
      "execution_count": null,
      "outputs": [
        {
          "output_type": "stream",
          "name": "stdout",
          "text": [
            "Contingency Table:\n",
            "pre     group-A  group-B\n",
            "Gender                  \n",
            "f             1        1\n",
            "m             2        2\n"
          ]
        }
      ]
    }
  ]
}